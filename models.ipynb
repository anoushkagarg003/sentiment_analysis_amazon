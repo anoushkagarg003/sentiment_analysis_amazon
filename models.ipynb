{
  "nbformat": 4,
  "nbformat_minor": 0,
  "metadata": {
    "colab": {
      "provenance": [],
      "authorship_tag": "ABX9TyONZTOdXd0Op/Obcly1bvAv",
      "include_colab_link": true
    },
    "kernelspec": {
      "name": "python3",
      "display_name": "Python 3"
    },
    "language_info": {
      "name": "python"
    }
  },
  "cells": [
    {
      "cell_type": "markdown",
      "metadata": {
        "id": "view-in-github",
        "colab_type": "text"
      },
      "source": [
        "<a href=\"https://colab.research.google.com/github/anoushkagarg003/sentiment_analysis_amazon/blob/main/models.ipynb\" target=\"_parent\"><img src=\"https://colab.research.google.com/assets/colab-badge.svg\" alt=\"Open In Colab\"/></a>"
      ]
    },
    {
      "cell_type": "code",
      "source": [
        "import pandas as pd\n",
        "from sklearn.model_selection import train_test_split\n",
        "from sklearn.feature_extraction.text import TfidfVectorizer\n",
        "from sklearn.svm import LinearSVC\n",
        "from sklearn.metrics import accuracy_score, classification_report\n",
        "from sklearn.naive_bayes import MultinomialNB"
      ],
      "metadata": {
        "id": "zVf-HafePItL"
      },
      "execution_count": 6,
      "outputs": []
    },
    {
      "cell_type": "code",
      "execution_count": 13,
      "metadata": {
        "id": "ETPbSORlOIwI"
      },
      "outputs": [],
      "source": [
        "df=pd.read_csv('clean_text_new.csv')\n",
        "df['sentiment'] = df['Stars'].apply(lambda x: 'Positive' if x >= 3 else 'Negative')\n",
        "df['clean_text_train'] = df['clean_text_train'].fillna('')"
      ]
    },
    {
      "cell_type": "code",
      "source": [
        "X = df['clean_text_train']\n",
        "y = df['sentiment']\n",
        "\n",
        "X_train, X_test, y_train, y_test = train_test_split(X, y, test_size=0.1, random_state=42)\n",
        "print(X_train)\n",
        "tfidf_vectorizer = TfidfVectorizer()\n",
        "X_train_tfidf = tfidf_vectorizer.fit_transform(X_train)\n",
        "X_test_tfidf = tfidf_vectorizer.transform(X_test)\n",
        "\n",
        "nb_classifier = MultinomialNB()\n",
        "\n",
        "nb_classifier.fit(X_train_tfidf, y_train)\n",
        "accuracy = nb_classifier.score(X_test_tfidf, y_test)\n",
        "print(\"Accuracy:\", accuracy)"
      ],
      "metadata": {
        "colab": {
          "base_uri": "https://localhost:8080/"
        },
        "id": "b_wDyz4tP_Ue",
        "outputId": "d2a468af-5fdc-41bb-eb30-0290c3b0b686"
      },
      "execution_count": 14,
      "outputs": [
        {
          "output_type": "stream",
          "name": "stdout",
          "text": [
            "6624    say water resistant not value money carry pair...\n",
            "5664            inner stitching came inner stitching came\n",
            "7757                              play video good product\n",
            "6946                                       small not good\n",
            "6686    kit bag small size zipper good strap adjustabl...\n",
            "                              ...                        \n",
            "5226                             good quality value money\n",
            "5390                                    good product good\n",
            "860                excellent bag office purpose excellent\n",
            "7603    impressive ater absorption capability used tim...\n",
            "7270    product received good packaging put transparen...\n",
            "Name: clean_text_train, Length: 7258, dtype: object\n",
            "Accuracy: 0.8004956629491945\n"
          ]
        }
      ]
    },
    {
      "cell_type": "code",
      "source": [
        "X = df['clean_text_train']  # Input features\n",
        "y = df['sentiment']  # Target variable\n",
        "\n",
        "# Preprocessing: Split the data into training and testing sets\n",
        "X_train, X_test, y_train, y_test = train_test_split(X, y, test_size=0.2, random_state=42)\n",
        "\n",
        "# Preprocessing: Vectorize the text data\n",
        "vectorizer = TfidfVectorizer()\n",
        "X_train_vec = vectorizer.fit_transform(X_train)\n",
        "X_test_vec = vectorizer.transform(X_test)\n",
        "\n",
        "# Model training: Linear Support Vector Classifier (SVC)\n",
        "model = LinearSVC()\n",
        "model.fit(X_train_vec,y_train)\n",
        "y_pred = model.predict(X_test_vec)\n",
        "accuracy = accuracy_score(y_test, y_pred)\n",
        "classification_report_str = classification_report(y_test, y_pred)\n",
        "\n",
        "print('Accuracy:', accuracy)\n",
        "print('Classification Report:')\n",
        "print(classification_report_str)"
      ],
      "metadata": {
        "colab": {
          "base_uri": "https://localhost:8080/"
        },
        "id": "ZKkxiUbiP-g4",
        "outputId": "494c5d7b-466a-4159-b3e3-c800aaf04e76"
      },
      "execution_count": 15,
      "outputs": [
        {
          "output_type": "stream",
          "name": "stdout",
          "text": [
            "Accuracy: 0.8629882207067576\n",
            "Classification Report:\n",
            "              precision    recall  f1-score   support\n",
            "\n",
            "    Negative       0.81      0.76      0.79       532\n",
            "    Positive       0.89      0.91      0.90      1081\n",
            "\n",
            "    accuracy                           0.86      1613\n",
            "   macro avg       0.85      0.84      0.84      1613\n",
            "weighted avg       0.86      0.86      0.86      1613\n",
            "\n"
          ]
        }
      ]
    },
    {
      "cell_type": "code",
      "source": [
        "from sklearn.ensemble import RandomForestClassifier\n",
        "X = df['clean_text_train']\n",
        "y = df['sentiment']\n",
        "\n",
        "X_train, X_test, y_train, y_test = train_test_split(X, y, test_size=0.2, random_state=42)\n",
        "\n",
        "vectorizer = TfidfVectorizer()\n",
        "X_train_vec = vectorizer.fit_transform(X_train)\n",
        "X_test_vec = vectorizer.transform(X_test)\n",
        "model = RandomForestClassifier()\n",
        "model.fit(X_train_vec, y_train)\n",
        "\n",
        "y_pred = model.predict(X_test_vec)\n",
        "accuracy = accuracy_score(y_test, y_pred)\n",
        "print('Accuracy:', accuracy)"
      ],
      "metadata": {
        "colab": {
          "base_uri": "https://localhost:8080/"
        },
        "id": "OQXzD8dOO39F",
        "outputId": "b46a8bd4-652c-4722-b734-bb2d46c17e65"
      },
      "execution_count": 16,
      "outputs": [
        {
          "output_type": "stream",
          "name": "stdout",
          "text": [
            "Accuracy: 0.8822070675759455\n"
          ]
        }
      ]
    },
    {
      "cell_type": "code",
      "source": [
        "from sklearn.linear_model import LogisticRegression\n",
        "from sklearn.metrics import accuracy_score\n",
        "\n",
        "logreg = LogisticRegression()\n",
        "logreg.fit(X_train_vec, y_train)\n",
        "y_pred = logreg.predict(X_test_vec)\n",
        "print(f\"Logistic Regression Accuracy: {accuracy_score(y_test, y_pred)}\")\n"
      ],
      "metadata": {
        "colab": {
          "base_uri": "https://localhost:8080/"
        },
        "id": "HCjaQT8GRAm0",
        "outputId": "3fc104bd-a6ef-413e-a9e2-0ac5fa7e26e3"
      },
      "execution_count": 18,
      "outputs": [
        {
          "output_type": "stream",
          "name": "stdout",
          "text": [
            "Logistic Regression Accuracy: 0.8636081835089895\n"
          ]
        }
      ]
    },
    {
      "cell_type": "code",
      "source": [
        "from sklearn.neighbors import KNeighborsClassifier\n",
        "\n",
        "knn = KNeighborsClassifier(n_neighbors=5)\n",
        "knn.fit(X_train_vec, y_train)\n",
        "y_pred = knn.predict(X_test_vec)\n",
        "print(f\"KNN Accuracy: {accuracy_score(y_test, y_pred)}\")"
      ],
      "metadata": {
        "colab": {
          "base_uri": "https://localhost:8080/"
        },
        "id": "mPMBxgdYRyKg",
        "outputId": "f56a65df-c8a8-4d4f-a800-6602e062aad8"
      },
      "execution_count": 19,
      "outputs": [
        {
          "output_type": "stream",
          "name": "stdout",
          "text": [
            "KNN Accuracy: 0.7730936143831371\n"
          ]
        }
      ]
    },
    {
      "cell_type": "code",
      "source": [
        "from sklearn.ensemble import GradientBoostingClassifier\n",
        "\n",
        "gbc = GradientBoostingClassifier()\n",
        "gbc.fit(X_train_vec, y_train)\n",
        "y_pred = gbc.predict(X_test_vec)\n",
        "print(f\"Gradient Boosting Classifier Accuracy: {accuracy_score(y_test, y_pred)}\")"
      ],
      "metadata": {
        "colab": {
          "base_uri": "https://localhost:8080/"
        },
        "id": "BnotNeq_R9BJ",
        "outputId": "1383b5c1-90a4-41d3-9f62-4925e4650514"
      },
      "execution_count": 20,
      "outputs": [
        {
          "output_type": "stream",
          "name": "stdout",
          "text": [
            "Gradient Boosting Classifier Accuracy: 0.8412895226286423\n"
          ]
        }
      ]
    },
    {
      "cell_type": "code",
      "source": [
        "from transformers import DistilBertTokenizer, DistilBertForSequenceClassification\n",
        "import torch\n",
        "# Load the tokenizer and model\n",
        "tokenizer = DistilBertTokenizer.from_pretrained(\"distilbert-base-uncased-finetuned-sst-2-english\")\n",
        "model = DistilBertForSequenceClassification.from_pretrained(\"distilbert-base-uncased-finetuned-sst-2-english\")\n",
        "\n",
        "# Define the function to predict sentiment\n",
        "def predict_sentiment(text):\n",
        "    inputs = tokenizer(text, return_tensors=\"pt\", truncation=True, padding=True)\n",
        "    with torch.no_grad():\n",
        "        logits = model(**inputs).logits\n",
        "    predicted_class_id = logits.argmax().item()\n",
        "    return model.config.id2label[predicted_class_id]\n",
        "df['new_sentiment'] = df['clean_text_train'].apply(predict_sentiment)"
      ],
      "metadata": {
        "id": "jZ9Lo918Sxlv"
      },
      "execution_count": 22,
      "outputs": []
    },
    {
      "cell_type": "code",
      "source": [
        "df['new_sentiment']"
      ],
      "metadata": {
        "colab": {
          "base_uri": "https://localhost:8080/"
        },
        "id": "rHSdvgeUVLv4",
        "outputId": "0c823cfe-a400-4504-86c7-fa3e125e253e"
      },
      "execution_count": 24,
      "outputs": [
        {
          "output_type": "execute_result",
          "data": {
            "text/plain": [
              "0       POSITIVE\n",
              "1       POSITIVE\n",
              "2       POSITIVE\n",
              "3       POSITIVE\n",
              "4       POSITIVE\n",
              "          ...   \n",
              "8060    NEGATIVE\n",
              "8061    POSITIVE\n",
              "8062    NEGATIVE\n",
              "8063    NEGATIVE\n",
              "8064    NEGATIVE\n",
              "Name: new_sentiment, Length: 8065, dtype: object"
            ]
          },
          "metadata": {},
          "execution_count": 24
        }
      ]
    },
    {
      "cell_type": "code",
      "source": [
        "df['sentiment'] = df['sentiment'].str.lower()\n",
        "df['new_sentiment'] = df['new_sentiment'].str.lower()\n",
        "\n",
        "# Calculate accuracy\n",
        "accuracy = (df['sentiment'] == df['new_sentiment']).mean() * 100\n",
        "\n",
        "print(f\"Accuracy: {accuracy:.2f}%\")"
      ],
      "metadata": {
        "colab": {
          "base_uri": "https://localhost:8080/"
        },
        "id": "rFOf1cmJVy2J",
        "outputId": "d1754c98-e915-4b44-f1a0-a7b9eca104ea"
      },
      "execution_count": 25,
      "outputs": [
        {
          "output_type": "stream",
          "name": "stdout",
          "text": [
            "Accuracy: 76.81%\n"
          ]
        }
      ]
    }
  ]
}